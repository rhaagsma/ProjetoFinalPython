{
  "nbformat": 4,
  "nbformat_minor": 0,
  "metadata": {
    "colab": {
      "provenance": [],
      "authorship_tag": "ABX9TyOw0/zBND1mE9pRHvIwtH1a",
      "include_colab_link": true
    },
    "kernelspec": {
      "name": "python3",
      "display_name": "Python 3"
    },
    "language_info": {
      "name": "python"
    }
  },
  "cells": [
    {
      "cell_type": "markdown",
      "metadata": {
        "id": "view-in-github",
        "colab_type": "text"
      },
      "source": [
        "<a href=\"https://colab.research.google.com/github/rhaagsma/Projeto_Final_Marvel/blob/insight-2/InsightsCharacteresComicsEvents.ipynb\" target=\"_parent\"><img src=\"https://colab.research.google.com/assets/colab-badge.svg\" alt=\"Open In Colab\"/></a>"
      ]
    },
    {
      "cell_type": "code",
      "source": [
        "import csv\n",
        "import sqlite3\n",
        "import pandas as pd\n",
        "from datetime import datetime\n",
        "import matplotlib.pyplot as plt\n",
        "import ast\n",
        "import seaborn as sns"
      ],
      "metadata": {
        "id": "qSIH_rL9MIr9"
      },
      "execution_count": null,
      "outputs": []
    },
    {
      "cell_type": "code",
      "source": [
        "pd.set_option('display.max_colwidth', None)\n",
        "pd.set_option('display.max_columns', None)\n",
        "pd.set_option('display.max_rows', None)"
      ],
      "metadata": {
        "id": "90nMMAKYpvek"
      },
      "execution_count": null,
      "outputs": []
    },
    {
      "cell_type": "markdown",
      "source": [
        "### Top 10 personagens que estão em mais comics"
      ],
      "metadata": {
        "id": "L7IiJgkRRL-u"
      }
    },
    {
      "cell_type": "code",
      "source": [
        "con = sqlite3.connect('banco.db')\n",
        "query = \"\"\"\n",
        "      SELECT\n",
        "            name,\n",
        "            comics_available\n",
        "      FROM characters\n",
        "      ORDER BY comics_available DESC\n",
        "      LIMIT 10;\n",
        "\"\"\"\n",
        "df = pd.read_sql_query(query, con)\n",
        "con.close()\n",
        "\n",
        "plt.figure(figsize=(12, 6))\n",
        "plt.bar(df['name'], df['comics_available'])\n",
        "plt.xlabel(\"Nome do Personagem\")\n",
        "plt.ylabel(\"Quantidade de Quadrinhos Disponíveis\")\n",
        "plt.title(\"Top 10 Personagens com Mais Quadrinhos\")\n",
        "plt.xticks(rotation=45, ha='right')\n",
        "plt.tight_layout()\n",
        "\n",
        "for i, v in enumerate(df['comics_available']):\n",
        "    plt.text(i, v + 25, f\"{v}\", ha='center')\n",
        "\n",
        "plt.show()"
      ],
      "metadata": {
        "id": "ISn9n58QRnzi"
      },
      "execution_count": null,
      "outputs": []
    },
    {
      "cell_type": "markdown",
      "source": [
        "### Quantidade de participações de personagem em quadrinhos por em evento"
      ],
      "metadata": {
        "id": "9caazZA49JvS"
      }
    },
    {
      "cell_type": "code",
      "source": [
        "conn = sqlite3.connect('banco.db')\n",
        "\n",
        "query = \"\"\"\n",
        "        SELECT\n",
        "            e.id AS id,\n",
        "            e.title AS evento,\n",
        "            ch.name AS personagem,\n",
        "            COUNT(*) AS total_participacoes,\n",
        "            e.amount_comics AS quantidade_comics,\n",
        "            ROW_NUMBER() OVER (PARTITION BY e.title ORDER BY COUNT(*) DESC) AS posicao\n",
        "        FROM comics c\n",
        "        JOIN characters_comics cc ON cc.comic_id = c.id\n",
        "        JOIN characters ch ON cc.character_id = ch.id\n",
        "        JOIN comics_events ce ON ce.comic_id = c.id\n",
        "        JOIN events e ON ce.event_id = e.id\n",
        "        GROUP BY e.id, e.title, ch.name\n",
        "        ORDER BY quantidade_comics DESC\n",
        "\"\"\"\n",
        "\n",
        "df = pd.read_sql_query(query, conn)\n",
        "conn.close()\n",
        "df.head()"
      ],
      "metadata": {
        "id": "_LseW4RlAqf9"
      },
      "execution_count": null,
      "outputs": []
    },
    {
      "cell_type": "markdown",
      "source": [
        "### Top 10 eventos com mais quadrinhos"
      ],
      "metadata": {
        "id": "SvvkJpXrVHh-"
      }
    },
    {
      "cell_type": "code",
      "source": [
        "result_df = (df[df['posicao'] == 1]).reset_index(drop=True)\n",
        "colunas_desejadas = ['evento', 'quantidade_comics']\n",
        "df_eventos = result_df[colunas_desejadas].head(10)\n",
        "df_eventos"
      ],
      "metadata": {
        "id": "SX1_DcloUo3i"
      },
      "execution_count": null,
      "outputs": []
    },
    {
      "cell_type": "markdown",
      "source": [
        "### Top 10 personagens com mais participações no top 5 de eventos com mais quadrinhos"
      ],
      "metadata": {
        "id": "3pzUj31AVmyG"
      }
    },
    {
      "cell_type": "code",
      "source": [
        "result_df = (df[df['posicao'].isin(range(1,11))]).reset_index(drop=True)\n",
        "colunas_desejadas = ['evento', 'personagem', 'total_participacoes', 'quantidade_comics']\n",
        "df_comics = result_df[colunas_desejadas].head(50)\n",
        "df_comics"
      ],
      "metadata": {
        "id": "o1nuD2BQWFa3"
      },
      "execution_count": null,
      "outputs": []
    },
    {
      "cell_type": "markdown",
      "source": [
        "### Quantidade de quadrinhos de um personagem por décadas\n"
      ],
      "metadata": {
        "id": "8VbcJTkjkq6a"
      }
    },
    {
      "cell_type": "code",
      "source": [
        "conn = sqlite3.connect('banco.db')\n",
        "\n",
        "query = \"\"\"\n",
        "    SELECT\n",
        "        ch.id AS id,\n",
        "        (c.year / 10) * 10 AS decade,\n",
        "        ch.name AS personagem,\n",
        "        COUNT(*) as participacoes,\n",
        "        ROW_NUMBER() OVER (PARTITION BY (c.year / 10) * 10  ORDER BY COUNT(*) DESC) AS posicao\n",
        "    FROM comics c\n",
        "    JOIN characters_comics cc ON cc.comic_id == c.id\n",
        "    JOIN characters ch ON cc.character_id == ch.id\n",
        "    WHERE decade != 0\n",
        "    GROUP BY ch.id, ch.name, decade\n",
        "    ORDER BY decade, participacoes DESC\n",
        "\"\"\"\n",
        "df_decade = pd.read_sql_query(query, conn)\n",
        "\n",
        "conn.close()\n",
        "\n",
        "df_decade.head()"
      ],
      "metadata": {
        "id": "qH6tVZ3zkt4_"
      },
      "execution_count": null,
      "outputs": []
    },
    {
      "cell_type": "markdown",
      "source": [
        "### Personagens como mais participações em quadrinhos por década"
      ],
      "metadata": {
        "id": "ssKoJM_KXZS2"
      }
    },
    {
      "cell_type": "code",
      "source": [
        "df_cd = (df_decade[df_decade['posicao'] == 1]).reset_index(drop=True)\n",
        "colunas_desejadas = ['decade', 'personagem', 'participacoes',]\n",
        "df_cd[colunas_desejadas]"
      ],
      "metadata": {
        "id": "wB95mFJaXt1p"
      },
      "execution_count": null,
      "outputs": []
    },
    {
      "cell_type": "markdown",
      "source": [
        "### Décadas com mais quadrinhos"
      ],
      "metadata": {
        "id": "KmZq6H8NX9wE"
      }
    },
    {
      "cell_type": "code",
      "source": [
        "conn = sqlite3.connect('banco.db')\n",
        "\n",
        "query = \"\"\"\n",
        "    SELECT\n",
        "        (c.year / 10) * 10 AS decade,\n",
        "        COUNT(*) as quantidade_comics\n",
        "    FROM comics c\n",
        "    WHERE decade != 0\n",
        "    GROUP BY decade\n",
        "    ORDER BY quantidade_comics DESC\n",
        "\"\"\"\n",
        "decades = pd.read_sql_query(query, conn)\n",
        "\n",
        "conn.close()\n",
        "decades"
      ],
      "metadata": {
        "id": "K85nVRLl9n5x"
      },
      "execution_count": null,
      "outputs": []
    }
  ]
}