{
  "cells": [
    {
      "cell_type": "markdown",
      "metadata": {},
      "source": [
        "## Fazendo Importações e passando os parâmetros necessários para realizar as resquisições"
      ]
    },
    {
      "cell_type": "code",
      "execution_count": 27,
      "metadata": {
        "id": "ggcSLBTFVnkb"
      },
      "outputs": [],
      "source": [
        "import hashlib\n",
        "import time\n",
        "import requests\n",
        "from google.colab import userdata\n",
        "import sqlite3\n",
        "import pandas as pd\n",
        "\n",
        "public_key = userdata.get('public_key')\n",
        "private_key = userdata.get('private_key')\n",
        "\n",
        "ts = str(time.time())\n",
        "to_hash = ts + private_key + public_key\n",
        "hash_digest = hashlib.md5(to_hash.encode()).hexdigest()\n",
        "auth_params = {\n",
        "        \"ts\": ts,\n",
        "        \"apikey\": public_key,\n",
        "        \"hash\": hash_digest,\n",
        "        \"limit\": 100\n",
        "    }"
      ]
    },
    {
      "cell_type": "code",
      "execution_count": null,
      "metadata": {},
      "outputs": [],
      "source": [
        "url1 = \"https://gateway.marvel.com/v1/public/characters\"\n",
        "url2 = \"https://gateway.marvel.com/v1/public/comics\""
      ]
    },
    {
      "cell_type": "markdown",
      "metadata": {},
      "source": [
        "## Função que consome o endpoint da API"
      ]
    },
    {
      "cell_type": "code",
      "execution_count": 54,
      "metadata": {
        "id": "obYjQPF0ZlFX"
      },
      "outputs": [],
      "source": [
        "def get_data(url):\n",
        "  total_data = 0\n",
        "  offset = 0\n",
        "  data = pd.DataFrame()\n",
        "\n",
        "  # Garante a entrada no loop na primeira vez\n",
        "  while offset < total_data or total_data == 0:\n",
        "      print(offset)\n",
        "      auth_params['offset'] = offset\n",
        "      response = requests.get(url, auth_params)\n",
        "      response = response.json()\n",
        "\n",
        "      # Atualiza total_data após a primeira requisição\n",
        "      if total_data == 0:\n",
        "          total_data = response['data']['total']\n",
        "\n",
        "      # Verifica se a resposta contém dados\n",
        "      if not response['data']['results']:\n",
        "          break\n",
        "\n",
        "      response = pd.json_normalize(response['data']['results'])\n",
        "      df1 = response\n",
        "      data = pd.concat([data, df1])\n",
        "      offset += len(df1)\n",
        "\n",
        "  return data"
      ]
    },
    {
      "cell_type": "code",
      "execution_count": 56,
      "metadata": {
        "collapsed": true,
        "id": "DNcPAHLQ8U4d"
      },
      "outputs": [],
      "source": [
        "characters = get_data(url1)\n",
        "\n",
        "conn = sqlite3.connect('banco.db')\n",
        "columns = ['id', 'name','description']\n",
        "\n",
        "characters[columns].to_sql('characters', conn, if_exists='replace', index=False)\n",
        "\n",
        "conn.close()"
      ]
    }
  ],
  "metadata": {
    "colab": {
      "provenance": []
    },
    "kernelspec": {
      "display_name": "Python 3",
      "name": "python3"
    },
    "language_info": {
      "name": "python"
    }
  },
  "nbformat": 4,
  "nbformat_minor": 0
}
