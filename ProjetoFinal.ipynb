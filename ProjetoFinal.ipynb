{
  "nbformat": 4,
  "nbformat_minor": 0,
  "metadata": {
    "colab": {
      "provenance": [],
      "authorship_tag": "ABX9TyPoBAN+POHKTDFEEdDEdblS",
      "include_colab_link": true
    },
    "kernelspec": {
      "name": "python3",
      "display_name": "Python 3"
    },
    "language_info": {
      "name": "python"
    }
  },
  "cells": [
    {
      "cell_type": "markdown",
      "metadata": {
        "id": "view-in-github",
        "colab_type": "text"
      },
      "source": [
        "<a href=\"https://colab.research.google.com/github/rhaagsma/ProjetoFinalPython/blob/insight-1/ProjetoFinal_Insight_1.ipynb\" target=\"_parent\"><img src=\"https://colab.research.google.com/assets/colab-badge.svg\" alt=\"Open In Colab\"/></a>"
      ]
    },
    {
      "cell_type": "code",
      "execution_count": null,
      "metadata": {
        "id": "ggcSLBTFVnkb"
      },
      "outputs": [],
      "source": [
        "import hashlib\n",
        "import time\n",
        "import requests\n",
        "from google.colab import userdata\n",
        "import sqlite3\n",
        "import pandas as pd\n",
        "\n",
        "public_key = userdata.get('public_key')\n",
        "private_key = userdata.get('private_key')\n",
        "\n",
        "ts = str(time.time())\n",
        "to_hash = ts + private_key + public_key\n",
        "hash_digest = hashlib.md5(to_hash.encode()).hexdigest()\n",
        "auth_params = {\n",
        "        \"ts\": ts,\n",
        "        \"apikey\": public_key,\n",
        "        \"hash\": hash_digest\n",
        "    }"
      ]
    },
    {
      "cell_type": "code",
      "source": [
        "base_url = \"https://gateway.marvel.com/v1/public/characters\"\n",
        "\n",
        "response = requests.get(base_url, auth_params)\n",
        "data = response.json()\n",
        "df = pd.DataFrame(data['data']['results'])"
      ],
      "metadata": {
        "id": "obYjQPF0ZlFX"
      },
      "execution_count": null,
      "outputs": []
    },
    {
      "cell_type": "code",
      "source": [
        "conn = sqlite3.connect('banco.db')\n",
        "columns = ['id', 'name','description']\n",
        "\n",
        "df[columns].to_sql('characters', conn, if_exists='replace', index=False)\n",
        "\n",
        "conn.close()"
      ],
      "metadata": {
        "collapsed": true,
        "id": "DNcPAHLQ8U4d"
      },
      "execution_count": null,
      "outputs": []
    }
  ]
}
