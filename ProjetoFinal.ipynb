{
  "nbformat": 4,
  "nbformat_minor": 0,
  "metadata": {
    "colab": {
      "provenance": [],
      "authorship_tag": "ABX9TyOo1qmcVOmsGKmRLe/2VyFQ",
      "include_colab_link": true
    },
    "kernelspec": {
      "name": "python3",
      "display_name": "Python 3"
    },
    "language_info": {
      "name": "python"
    }
  },
  "cells": [
    {
      "cell_type": "markdown",
      "metadata": {
        "id": "view-in-github",
        "colab_type": "text"
      },
      "source": [
        "<a href=\"https://colab.research.google.com/github/rhaagsma/Projeto_Final_Marvel/blob/main/ProjetoFinal.ipynb\" target=\"_parent\"><img src=\"https://colab.research.google.com/assets/colab-badge.svg\" alt=\"Open In Colab\"/></a>"
      ]
    },
    {
      "cell_type": "markdown",
      "source": [
        "Fazendo Importações e passando os parâmetros necessários para realizar as resquisições"
      ],
      "metadata": {
        "id": "pWWBNQbVCz2t"
      }
    },
    {
      "cell_type": "code",
      "execution_count": 2,
      "metadata": {
        "id": "ggcSLBTFVnkb"
      },
      "outputs": [],
      "source": [
        "import hashlib\n",
        "import time\n",
        "import requests\n",
        "from google.colab import userdata\n",
        "import sqlite3\n",
        "import pandas as pd\n",
        "import ast\n",
        "\n",
        "public_key = userdata.get('public_key')\n",
        "private_key = userdata.get('private_key')\n",
        "\n",
        "ts = str(time.time())\n",
        "to_hash = ts + private_key + public_key\n",
        "hash_digest = hashlib.md5(to_hash.encode()).hexdigest()\n",
        "auth_params = {\n",
        "        \"ts\": ts,\n",
        "        \"apikey\": public_key,\n",
        "        \"hash\": hash_digest\n",
        "    }"
      ]
    },
    {
      "cell_type": "code",
      "source": [
        "url1 = \"https://gateway.marvel.com/v1/public/characters\"\n",
        "url2 = \"https://gateway.marvel.com/v1/public/comics\""
      ],
      "metadata": {
        "id": "obYjQPF0ZlFX"
      },
      "execution_count": null,
      "outputs": []
    },
    {
      "cell_type": "markdown",
      "source": [
        "Definição da Função que retorna os dados da Requisição em um Dataframe"
      ],
      "metadata": {
        "id": "hpjFSe2lsOBV"
      }
    },
    {
      "cell_type": "code",
      "source": [
        "def get_data(url):\n",
        "  total_data = 0\n",
        "  offset = 0\n",
        "  data = pd.DataFrame()\n",
        "\n",
        "  # Garante a entrada no loop na primeira vez\n",
        "  while offset < total_data or total_data == 0:\n",
        "      print(offset)\n",
        "      auth_params['offset'] = offset\n",
        "      response = requests.get(url, auth_params)\n",
        "      response = response.json()\n",
        "\n",
        "      # Atualiza total_data após a primeira requisição\n",
        "      if total_data == 0:\n",
        "          total_data = response['data']['total']\n",
        "\n",
        "      # Verifica se a resposta contém dados\n",
        "      if not response['data']['results']:\n",
        "          break\n",
        "\n",
        "      response = pd.json_normalize(response['data']['results'])\n",
        "      df1 = response\n",
        "      data = pd.concat([data, df1])\n",
        "      offset += len(df1)\n",
        "\n",
        "  return data"
      ],
      "metadata": {
        "id": "vwmVxGQOXu3k"
      },
      "execution_count": null,
      "outputs": []
    },
    {
      "cell_type": "markdown",
      "source": [
        "Requisição do Endpoint Characters e inserção dos dados no Banco"
      ],
      "metadata": {
        "id": "jPOk6DwJvHKs"
      }
    },
    {
      "cell_type": "code",
      "source": [
        "characters = get_data(url1)\n",
        "\n",
        "conn = sqlite3.connect('banco.db')\n",
        "columns = ['id', 'name','description']\n",
        "\n",
        "characters[columns].to_sql('characters', conn, if_exists='replace', index=False)\n",
        "\n",
        "conn.close()"
      ],
      "metadata": {
        "collapsed": true,
        "id": "DNcPAHLQ8U4d"
      },
      "execution_count": null,
      "outputs": []
    },
    {
      "cell_type": "markdown",
      "source": [
        "Definição de uma Função que extrai os preços da lista de dicionários do Endpoint Comics"
      ],
      "metadata": {
        "id": "f77GkfV7vmqW"
      }
    },
    {
      "cell_type": "code",
      "source": [
        "def extrair_preco(lista_precos):\n",
        "    try:\n",
        "        # Converte a string em lista de dicionários, se necessário\n",
        "        if isinstance(lista_precos, str):\n",
        "            lista_precos = ast.literal_eval(lista_precos)\n",
        "\n",
        "        for item in lista_precos:\n",
        "            if item.get('type') == 'printPrice':\n",
        "                return item.get('price')\n",
        "    except Exception as e:\n",
        "        print(f\"Erro ao processar: {lista_precos} -> {e}\")\n",
        "\n",
        "    return 0\n"
      ],
      "metadata": {
        "id": "7_ah5nJ7ZOy-"
      },
      "execution_count": 24,
      "outputs": []
    },
    {
      "cell_type": "markdown",
      "source": [
        "Requisição do Endpoint Comics e inserção dos dados no Banco"
      ],
      "metadata": {
        "id": "JpPaATvnvjCz"
      }
    },
    {
      "cell_type": "code",
      "source": [
        "comics = get_data(url2)\n",
        "\n",
        "# Expressão regular para encontrar um ano de 4 dígitos entre parênteses\n",
        "comics['year'] = comics['title'].str.extract(r'\\((\\d{4})\\)').fillna(0).astype(int)\n",
        "comics['price'] = comics['prices'].apply(extrair_preco)\n",
        "\n",
        "conn = sqlite3.connect('banco.db')\n",
        "columns = ['id','digitalId','title','year','pageCount', 'price']\n",
        "\n",
        "comics[columns].to_sql('comics', conn, if_exists='replace', index=False)\n",
        "\n",
        "conn.close()"
      ],
      "metadata": {
        "id": "rhw-nScLYNyD"
      },
      "execution_count": 27,
      "outputs": []
    },
    {
      "cell_type": "markdown",
      "source": [
        "Requisição para criar a Tabela Associativa de Characters e Comics no Banco"
      ],
      "metadata": {
        "id": "J_wRbduFxdQe"
      }
    },
    {
      "cell_type": "code",
      "source": [
        "#query para acessar os ids dos personagens\n",
        "conn = sqlite3.connect('banco.db')\n",
        "\n",
        "query = \"SELECT id FROM characters\"\n",
        "df = pd.read_sql_query(query, conn)\n",
        "\n",
        "conn.close()\n",
        "\n",
        "request_count = 0\n",
        "comics_chars = pd.DataFrame()\n",
        "limit = 100\n",
        "\n",
        "for index, row in df.iterrows():\n",
        "  char_id = row['id']\n",
        "  print(index)\n",
        "  offset = 0\n",
        "  total = 0\n",
        "\n",
        "  # Loop enquanto o offset for menor que o total ou total ainda não foi definido\n",
        "  while offset <= total or total == 0:\n",
        "      comic_params = auth_params\n",
        "      comic_params.update({\n",
        "          'offset': offset\n",
        "      })\n",
        "\n",
        "      comic_resp = requests.get(f\"https://gateway.marvel.com/v1/public/characters/{char_id}/comics\", params=comic_params)\n",
        "      request_count += 1\n",
        "\n",
        "      comics_data = comic_resp.json()\n",
        "      results = comics_data['data']['results']\n",
        "\n",
        "      temp_df = pd.DataFrame(results)\n",
        "\n",
        "      temp_df['character_id'] = char_id\n",
        "\n",
        "      comics_chars = pd.concat([comics_chars, temp_df], ignore_index=True)\n",
        "\n",
        "      if total == 0:\n",
        "          total = comics_data['data']['total']\n",
        "          if total == 0:\n",
        "            break\n",
        "\n",
        "      if total < limit:\n",
        "        offset += total\n",
        "      else:\n",
        "        offset += limit"
      ],
      "metadata": {
        "id": "PNoX2AYxdNmS"
      },
      "execution_count": null,
      "outputs": []
    },
    {
      "cell_type": "code",
      "source": [
        "conn = sqlite3.connect('banco.db')\n",
        "\n",
        "comics_chars.rename(columns={'id': 'comic_id'})\n",
        "columns = ['character_id', 'comic_id']\n",
        "\n",
        "comics_chars[columns].to_sql('characters_comics', conn, if_exists='replace', index=False)\n",
        "\n",
        "conn.close()"
      ],
      "metadata": {
        "id": "7Vk4aqLpczX8"
      },
      "execution_count": null,
      "outputs": []
    }
  ]
}