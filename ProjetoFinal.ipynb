{
  "cells": [
    {
      "cell_type": "markdown",
      "metadata": {
        "id": "fkGqCjo3MWeW"
      },
      "source": [
        "## Fazendo Importações e passando os parâmetros necessários para realizar as resquisições"
      ]
    },
    {
      "cell_type": "code",
      "execution_count": null,
      "metadata": {
        "id": "ggcSLBTFVnkb"
      },
      "outputs": [],
      "source": [
        "import hashlib\n",
        "import time\n",
        "import requests\n",
        "from google.colab import userdata\n",
        "import sqlite3\n",
        "import pandas as pd\n",
        "\n",
        "public_key = userdata.get('public_key')\n",
        "private_key = userdata.get('private_key')\n",
        "\n",
        "ts = str(time.time())\n",
        "to_hash = ts + private_key + public_key\n",
        "hash_digest = hashlib.md5(to_hash.encode()).hexdigest()\n",
        "auth_params = {\n",
        "        \"ts\": ts,\n",
        "        \"apikey\": public_key,\n",
        "        \"hash\": hash_digest,\n",
        "        \"limit\": 100\n",
        "    }"
      ]
    },
    {
      "cell_type": "code",
      "execution_count": null,
      "metadata": {
        "id": "ZVwu2DWjMWeX"
      },
      "outputs": [],
      "source": [
        "url1 = \"https://gateway.marvel.com/v1/public/characters\"\n",
        "url2 = \"https://gateway.marvel.com/v1/public/comics\""
      ]
    },
    {
      "cell_type": "markdown",
      "metadata": {
        "id": "Vv8FmySVMWeY"
      },
      "source": [
        "## Função que consome o endpoint da API"
      ]
    },
    {
      "cell_type": "code",
      "execution_count": null,
      "metadata": {
        "id": "obYjQPF0ZlFX"
      },
      "outputs": [],
      "source": [
        "def get_data(url):\n",
        "  total_data = 0\n",
        "  offset = 0\n",
        "  data = pd.DataFrame()\n",
        "\n",
        "  # Garante a entrada no loop na primeira vez\n",
        "  while offset < total_data or total_data == 0:\n",
        "      print(offset)\n",
        "      auth_params['offset'] = offset\n",
        "      response = requests.get(url, auth_params)\n",
        "      response = response.json()\n",
        "\n",
        "      # Atualiza total_data após a primeira requisição\n",
        "      if total_data == 0:\n",
        "          total_data = response['data']['total']\n",
        "\n",
        "      # Verifica se a resposta contém dados\n",
        "      if not response['data']['results']:\n",
        "          break\n",
        "\n",
        "      response = pd.json_normalize(response['data']['results'])\n",
        "      df1 = response\n",
        "      data = pd.concat([data, df1])\n",
        "      offset += len(df1)\n",
        "\n",
        "  return data"
      ]
    },
    {
      "cell_type": "code",
      "execution_count": null,
      "metadata": {
        "collapsed": true,
        "id": "DNcPAHLQ8U4d"
      },
      "outputs": [],
      "source": [
        "characters = get_data(url1)\n",
        "\n",
        "conn = sqlite3.connect('banco.db')\n",
        "columns = ['id', 'name','description']\n",
        "\n",
        "characters[columns].to_sql('characters', conn, if_exists='replace', index=False)\n",
        "\n",
        "conn.close()"
      ]
    },
    {
      "cell_type": "code",
      "source": [
        "conn = sqlite3.connect('banco.db')\n",
        "\n",
        "query = \"SELECT id FROM characters\"\n",
        "df = pd.read_sql_query(query, conn)\n",
        "\n",
        "conn.close()"
      ],
      "metadata": {
        "id": "HyRPkmFsZ9v3"
      },
      "execution_count": null,
      "outputs": []
    },
    {
      "cell_type": "code",
      "source": [
        "offset = 0\n",
        "total = None\n",
        "request_count = 0\n",
        "comics = []\n",
        "\n",
        "print(\"Buscando todos os quadrinhos...\")\n",
        "\n",
        "for index, row in df.iterrows():\n",
        "  char_id = row['id']\n",
        "  print(char_id)\n",
        "  if index == 3:\n",
        "    break\n",
        "\n",
        "  while offset >= total::\n",
        "      print(offset)\n",
        "      comic_params = params\n",
        "      comic_params.update({\n",
        "          'offset': offset\n",
        "      })\n",
        "\n",
        "      comic_resp = requests.get(f\"{BASE_URL}/characters/{char_id}/comics\", params=comic_params)\n",
        "      request_count += 1\n",
        "\n",
        "      comics_data = comic_resp.json()\n",
        "      results = comics_data['data']['results']\n",
        "      comics.extend(results)\n",
        "\n",
        "      if total is None:\n",
        "          total = comics_data['data']['total']\n",
        "          print(f\"Total de quadrinhos encontrados: {total}\")\n",
        "\n",
        "      offset += limit\n",
        "\n",
        "      # if offset >= total:\n",
        "      #     break"
      ],
      "metadata": {
        "id": "9POWIseuaB3b"
      },
      "execution_count": null,
      "outputs": []
    },
    {
      "cell_type": "code",
      "source": [
        "columns = ['id', 'name','description']\n",
        "characters[columns].to_sql('characters', conn, if_exists='replace', index=False)"
      ],
      "metadata": {
        "id": "O3DD7ZCIaPmT"
      },
      "execution_count": null,
      "outputs": []
    },
    {
      "cell_type": "code",
      "source": [
        "request_count = 0\n",
        "comics_df = pd.DataFrame()\n",
        "limit = 100\n",
        "\n",
        "for index, row in df.iterrows():\n",
        "  char_id = row['id']\n",
        "  print(index)\n",
        "  offset = 0\n",
        "  total = 0\n",
        "\n",
        "  # Loop enquanto o offset for menor que o total ou total ainda não foi definido\n",
        "  while offset <= total or total == 0:\n",
        "      comic_params = params\n",
        "      comic_params.update({\n",
        "          'offset': offset\n",
        "      })\n",
        "\n",
        "      comic_resp = requests.get(f\"{BASE_URL}/characters/{char_id}/comics\", params=comic_params)\n",
        "      request_count += 1\n",
        "\n",
        "      comics_data = comic_resp.json()\n",
        "      results = comics_data['data']['results']\n",
        "\n",
        "      temp_df = pd.DataFrame(results)\n",
        "\n",
        "      temp_df['character_id'] = char_id\n",
        "\n",
        "      comics_df = pd.concat([comics_df, temp_df], ignore_index=True)\n",
        "\n",
        "      if total == 0:\n",
        "          total = comics_data['data']['total']\n",
        "          if total == 0:\n",
        "            break\n",
        "\n",
        "      if total < limit:\n",
        "        offset += total\n",
        "      else:\n",
        "        offset += limit"
      ],
      "metadata": {
        "id": "WkTRJ7xW-3Wj"
      },
      "execution_count": null,
      "outputs": []
    }
  ],
  "metadata": {
    "colab": {
      "provenance": []
    },
    "kernelspec": {
      "display_name": "Python 3",
      "name": "python3"
    },
    "language_info": {
      "name": "python"
    }
  },
  "nbformat": 4,
  "nbformat_minor": 0
}